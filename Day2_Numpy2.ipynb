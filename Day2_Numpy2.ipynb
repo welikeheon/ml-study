{
 "cells": [
  {
   "cell_type": "code",
   "execution_count": 1,
   "id": "5fadc228-5783-4cb8-927a-40611f53939a",
   "metadata": {},
   "outputs": [],
   "source": [
    "import numpy as np"
   ]
  },
  {
   "cell_type": "code",
   "execution_count": 2,
   "id": "67844a9c-535a-47e7-b66f-5f19ed1e080d",
   "metadata": {},
   "outputs": [],
   "source": [
    "array1 = np.array([2,3,5,7,11,13,17,19,23,29,31])"
   ]
  },
  {
   "cell_type": "code",
   "execution_count": 4,
   "id": "3791c2eb-cf50-494a-8ea8-80218baa0b61",
   "metadata": {},
   "outputs": [
    {
     "data": {
      "text/plain": [
       "2"
      ]
     },
     "execution_count": 4,
     "metadata": {},
     "output_type": "execute_result"
    }
   ],
   "source": [
    "# 파이썬의 리스트처럼 인덱스를 통해 배열 불러오기가 가능함..\n",
    "\n",
    "array1[0]"
   ]
  },
  {
   "cell_type": "code",
   "execution_count": 5,
   "id": "503a95af-3923-473c-98c2-27013c5da3f3",
   "metadata": {},
   "outputs": [
    {
     "data": {
      "text/plain": [
       "5"
      ]
     },
     "execution_count": 5,
     "metadata": {},
     "output_type": "execute_result"
    }
   ],
   "source": [
    "array1[2]"
   ]
  },
  {
   "cell_type": "code",
   "execution_count": 7,
   "id": "97d7ab92-90ad-4f09-87fc-7fc5e4f88343",
   "metadata": {},
   "outputs": [
    {
     "data": {
      "text/plain": [
       "31"
      ]
     },
     "execution_count": 7,
     "metadata": {},
     "output_type": "execute_result"
    }
   ],
   "source": [
    "# 개별 element에 assign 할 수 있다...\n",
    "array1[-1]"
   ]
  },
  {
   "cell_type": "code",
   "execution_count": 9,
   "id": "8b12ee8f-29e9-4bc9-b898-33b2f34d8581",
   "metadata": {},
   "outputs": [
    {
     "data": {
      "text/plain": [
       "array([ 2,  3,  5,  7, 11, 13, 17, 19, 23])"
      ]
     },
     "execution_count": 9,
     "metadata": {},
     "output_type": "execute_result"
    }
   ],
   "source": [
    "# 그럼 .. list slice도 지원하나..??\n",
    "array1[:-2] # 29,31 안나와야..."
   ]
  },
  {
   "cell_type": "code",
   "execution_count": 15,
   "id": "c0854e6d-8eed-4517-bf05-7a9f204eac9f",
   "metadata": {},
   "outputs": [
    {
     "data": {
      "text/plain": [
       "array([ 3,  7, 11])"
      ]
     },
     "execution_count": 15,
     "metadata": {},
     "output_type": "execute_result"
    }
   ],
   "source": [
    "array1[[1,3,4]] # 이렇게 하면 .. 특정원소들의 집합만 꺼낼 수 있다.."
   ]
  },
  {
   "cell_type": "code",
   "execution_count": 16,
   "id": "96ffa197-6e4d-40c9-bab0-1310cdadfacb",
   "metadata": {},
   "outputs": [
    {
     "data": {
      "text/plain": [
       "array([ 5,  7, 11, 13, 17])"
      ]
     },
     "execution_count": 16,
     "metadata": {},
     "output_type": "execute_result"
    }
   ],
   "source": [
    "array1[2:7]"
   ]
  },
  {
   "cell_type": "code",
   "execution_count": 17,
   "id": "3ee1c67b-9dd4-4ac7-99df-061bc37d32d1",
   "metadata": {},
   "outputs": [
    {
     "data": {
      "text/plain": [
       "array([ 2,  3,  5,  7, 11, 13, 17])"
      ]
     },
     "execution_count": 17,
     "metadata": {},
     "output_type": "execute_result"
    }
   ],
   "source": [
    "array1[:7]"
   ]
  },
  {
   "cell_type": "code",
   "execution_count": 18,
   "id": "9457554b-d10b-4461-93c2-2a69a1fd97a6",
   "metadata": {},
   "outputs": [
    {
     "data": {
      "text/plain": [
       "array([ 5,  7, 11, 13, 17, 19, 23, 29, 31])"
      ]
     },
     "execution_count": 18,
     "metadata": {},
     "output_type": "execute_result"
    }
   ],
   "source": [
    "array1[2:]"
   ]
  },
  {
   "cell_type": "code",
   "execution_count": 21,
   "id": "7fa6f67a-8d22-46a8-809f-88735bac3738",
   "metadata": {},
   "outputs": [
    {
     "data": {
      "text/plain": [
       "array([ 5, 11, 17, 23, 31])"
      ]
     },
     "execution_count": 21,
     "metadata": {},
     "output_type": "execute_result"
    }
   ],
   "source": [
    "array1[2:11:2]"
   ]
  },
  {
   "cell_type": "markdown",
   "id": "f99d0f3d-16a6-453b-bbcb-12b70125e72e",
   "metadata": {},
   "source": [
    "### Numpy 기본연산"
   ]
  },
  {
   "cell_type": "code",
   "execution_count": 22,
   "id": "e7107d36-ee33-4d71-b666-eb4527aab751",
   "metadata": {},
   "outputs": [],
   "source": [
    "import numpy as np"
   ]
  },
  {
   "cell_type": "code",
   "execution_count": 23,
   "id": "853902e2-d44b-41e3-9a8e-0e6e7b31e315",
   "metadata": {},
   "outputs": [],
   "source": [
    "array1 = np.arange(10)\n",
    "array2 = np.arange(10, 20)"
   ]
  },
  {
   "cell_type": "code",
   "execution_count": 24,
   "id": "142b8d27-8ed6-402e-ad5d-76ee7752327b",
   "metadata": {},
   "outputs": [
    {
     "data": {
      "text/plain": [
       "array([0, 1, 2, 3, 4, 5, 6, 7, 8, 9])"
      ]
     },
     "execution_count": 24,
     "metadata": {},
     "output_type": "execute_result"
    }
   ],
   "source": [
    "array1"
   ]
  },
  {
   "cell_type": "code",
   "execution_count": 25,
   "id": "d648dd96-5826-477a-a568-ebf3d95a57c2",
   "metadata": {},
   "outputs": [
    {
     "data": {
      "text/plain": [
       "array([10, 11, 12, 13, 14, 15, 16, 17, 18, 19])"
      ]
     },
     "execution_count": 25,
     "metadata": {},
     "output_type": "execute_result"
    }
   ],
   "source": [
    "array2"
   ]
  },
  {
   "cell_type": "markdown",
   "id": "bbd4a0cd-d389-4b8c-955b-5c4c647a2238",
   "metadata": {},
   "source": [
    "#### 모든 원소에 2를 곱하기"
   ]
  },
  {
   "cell_type": "markdown",
   "id": "0f775cd4-9a88-4dd5-8cd2-ec008222b42e",
   "metadata": {},
   "source": [
    "##### 상식적인 방법"
   ]
  },
  {
   "cell_type": "code",
   "execution_count": 26,
   "id": "a52ba7e1-702c-4558-a75d-679963185dc1",
   "metadata": {},
   "outputs": [],
   "source": [
    "for i in range(len(array1)):\n",
    "    array1[i] = array1[i] * 2"
   ]
  },
  {
   "cell_type": "code",
   "execution_count": 27,
   "id": "2c2ecd0a-be40-4595-91f4-876237343891",
   "metadata": {},
   "outputs": [
    {
     "data": {
      "text/plain": [
       "array([ 0,  2,  4,  6,  8, 10, 12, 14, 16, 18])"
      ]
     },
     "execution_count": 27,
     "metadata": {},
     "output_type": "execute_result"
    }
   ],
   "source": [
    "array1"
   ]
  },
  {
   "cell_type": "markdown",
   "id": "207c8980-f5b1-4a51-831c-4612fb4fb31e",
   "metadata": {},
   "source": [
    "##### Numpy에선..."
   ]
  },
  {
   "cell_type": "code",
   "execution_count": 28,
   "id": "082172f5-460b-4fee-aaaa-b1e2af87ee78",
   "metadata": {},
   "outputs": [],
   "source": [
    "array1 = np.arange(10)"
   ]
  },
  {
   "cell_type": "code",
   "execution_count": 30,
   "id": "68da8c18-ba39-4e79-b5a3-c0b7a74f06aa",
   "metadata": {},
   "outputs": [
    {
     "data": {
      "text/plain": [
       "array([ 0,  2,  4,  6,  8, 10, 12, 14, 16, 18])"
      ]
     },
     "execution_count": 30,
     "metadata": {},
     "output_type": "execute_result"
    }
   ],
   "source": [
    "array1 * 2 # !!!! 이렇게 된다..."
   ]
  },
  {
   "cell_type": "markdown",
   "id": "166358af-4acc-42aa-8e10-acee6c7e3728",
   "metadata": {},
   "source": [
    "#### 배열끼리의 연산"
   ]
  },
  {
   "cell_type": "markdown",
   "id": "8a7146aa-edee-4cd2-9777-926a98c36e73",
   "metadata": {},
   "source": [
    "arr1과 arr2의 element를 같이 더하려면 고민 좀 해야됨..  \n",
    "그러나 여기선..."
   ]
  },
  {
   "cell_type": "code",
   "execution_count": 32,
   "id": "2b139be2-df29-4a79-a875-1c97e5fa1e6f",
   "metadata": {},
   "outputs": [
    {
     "data": {
      "text/plain": [
       "array([0, 1, 2, 3, 4, 5, 6, 7, 8, 9])"
      ]
     },
     "execution_count": 32,
     "metadata": {},
     "output_type": "execute_result"
    }
   ],
   "source": [
    "array1"
   ]
  },
  {
   "cell_type": "code",
   "execution_count": 33,
   "id": "e21dfa7e-d6f1-43fc-be06-82605aa8edd2",
   "metadata": {},
   "outputs": [
    {
     "data": {
      "text/plain": [
       "array([10, 11, 12, 13, 14, 15, 16, 17, 18, 19])"
      ]
     },
     "execution_count": 33,
     "metadata": {},
     "output_type": "execute_result"
    }
   ],
   "source": [
    "array2"
   ]
  },
  {
   "cell_type": "code",
   "execution_count": 34,
   "id": "a47771b9-5310-4774-b73c-445043f8e791",
   "metadata": {},
   "outputs": [
    {
     "data": {
      "text/plain": [
       "array([10, 12, 14, 16, 18, 20, 22, 24, 26, 28])"
      ]
     },
     "execution_count": 34,
     "metadata": {},
     "output_type": "execute_result"
    }
   ],
   "source": [
    "array1 + array2 # 미침...;"
   ]
  },
  {
   "cell_type": "markdown",
   "id": "3113a099-b2b1-4911-952e-cd5801851871",
   "metadata": {},
   "source": [
    "덧셈 말고 당연 곱셈도 됨..."
   ]
  },
  {
   "cell_type": "code",
   "execution_count": 35,
   "id": "4d173266-22d9-4317-9164-04be81c60b78",
   "metadata": {},
   "outputs": [
    {
     "data": {
      "text/plain": [
       "array([0, 1, 2, 3, 4, 5, 6, 7, 8, 9])"
      ]
     },
     "execution_count": 35,
     "metadata": {},
     "output_type": "execute_result"
    }
   ],
   "source": [
    "array1"
   ]
  },
  {
   "cell_type": "code",
   "execution_count": 36,
   "id": "72375434-42c3-4578-9293-2bee3859e3c9",
   "metadata": {},
   "outputs": [
    {
     "data": {
      "text/plain": [
       "array([10, 11, 12, 13, 14, 15, 16, 17, 18, 19])"
      ]
     },
     "execution_count": 36,
     "metadata": {},
     "output_type": "execute_result"
    }
   ],
   "source": [
    "array2"
   ]
  },
  {
   "cell_type": "code",
   "execution_count": 37,
   "id": "0982bb9a-3dd3-42ed-ae99-57d826001033",
   "metadata": {},
   "outputs": [
    {
     "data": {
      "text/plain": [
       "array([  0,  11,  24,  39,  56,  75,  96, 119, 144, 171])"
      ]
     },
     "execution_count": 37,
     "metadata": {},
     "output_type": "execute_result"
    }
   ],
   "source": [
    "array1 * array2"
   ]
  },
  {
   "cell_type": "markdown",
   "id": "39d24f57-556d-4b6c-b96e-6d914397cb2a",
   "metadata": {},
   "source": [
    "그럼, 나눗셈도 가능함.."
   ]
  },
  {
   "cell_type": "code",
   "execution_count": 39,
   "id": "960ad4cc-1899-4523-9b0a-62e3b2828e14",
   "metadata": {},
   "outputs": [
    {
     "data": {
      "text/plain": [
       "array([0.        , 0.09090909, 0.16666667, 0.23076923, 0.28571429,\n",
       "       0.33333333, 0.375     , 0.41176471, 0.44444444, 0.47368421])"
      ]
     },
     "execution_count": 39,
     "metadata": {},
     "output_type": "execute_result"
    }
   ],
   "source": [
    "array1 / array2"
   ]
  },
  {
   "cell_type": "code",
   "execution_count": 43,
   "id": "5bcedd43-8ab8-4d38-8612-007139c76801",
   "metadata": {},
   "outputs": [
    {
     "data": {
      "text/plain": [
       "array([0, 0, 0, 0, 0, 0, 0, 0, 0, 0])"
      ]
     },
     "execution_count": 43,
     "metadata": {},
     "output_type": "execute_result"
    }
   ],
   "source": [
    "# 혹시 이런것도 되나....\n",
    "\n",
    "array1 // array2 # 된다........"
   ]
  },
  {
   "cell_type": "markdown",
   "id": "f3b4784a-f1f4-4b7c-ac99-69e5b5ae65f4",
   "metadata": {},
   "source": [
    "### Boolean 도 가능함 ~~(미침...)~~"
   ]
  },
  {
   "cell_type": "code",
   "execution_count": 49,
   "id": "a42b6cd3-eb57-4279-aa50-a205e6acb673",
   "metadata": {},
   "outputs": [],
   "source": [
    "array1 = np.array([2,3,5,7,11,13,17,19,23,29,31])"
   ]
  },
  {
   "cell_type": "code",
   "execution_count": 50,
   "id": "8c3b135e-ed90-4bcc-8b64-f760d74db828",
   "metadata": {},
   "outputs": [
    {
     "data": {
      "text/plain": [
       "array([False, False,  True,  True,  True,  True,  True,  True,  True,\n",
       "        True,  True])"
      ]
     },
     "execution_count": 50,
     "metadata": {},
     "output_type": "execute_result"
    }
   ],
   "source": [
    "array1 > 4 # 4보다 큰 값만 True"
   ]
  },
  {
   "cell_type": "code",
   "execution_count": 51,
   "id": "53c63690-1b0c-4bb1-8d9f-e2ac77f3a5d9",
   "metadata": {},
   "outputs": [
    {
     "data": {
      "text/plain": [
       "array([ True, False, False, False, False, False, False, False, False,\n",
       "       False, False])"
      ]
     },
     "execution_count": 51,
     "metadata": {},
     "output_type": "execute_result"
    }
   ],
   "source": [
    "array1 % 2 == 0 # 짝수만"
   ]
  },
  {
   "cell_type": "code",
   "execution_count": 52,
   "id": "7ec6d3d2-e98f-4fe9-9bc9-8c99a29d89b0",
   "metadata": {},
   "outputs": [],
   "source": [
    "booleans = np.array([True, True, False, True, True, False, True, True, True, False, True])"
   ]
  },
  {
   "cell_type": "markdown",
   "id": "a53597e6-a81b-481d-9aec-ff6ebbcb68ab",
   "metadata": {},
   "source": [
    "**현재는 2, 5, 9 만 False로 되어있음**"
   ]
  },
  {
   "cell_type": "code",
   "execution_count": 58,
   "id": "df461ca6-bf73-43b2-960a-1787689ff20b",
   "metadata": {},
   "outputs": [
    {
     "data": {
      "text/plain": [
       "(array([ 0,  1,  3,  4,  6,  7,  8, 10]),)"
      ]
     },
     "execution_count": 58,
     "metadata": {},
     "output_type": "execute_result"
    }
   ],
   "source": [
    "np.where(booleans) # True 반환?"
   ]
  },
  {
   "cell_type": "code",
   "execution_count": 59,
   "id": "a4783189-2435-4072-a34f-288f61f73cfb",
   "metadata": {},
   "outputs": [
    {
     "data": {
      "text/plain": [
       "(array([2, 5, 9]),)"
      ]
     },
     "execution_count": 59,
     "metadata": {},
     "output_type": "execute_result"
    }
   ],
   "source": [
    "np.where(booleans == False)"
   ]
  },
  {
   "cell_type": "code",
   "execution_count": 62,
   "id": "9fcc782b-4b4e-4264-b3fd-ba6f24dc90b5",
   "metadata": {},
   "outputs": [
    {
     "data": {
      "text/plain": [
       "(array([ 2,  3,  4,  5,  6,  7,  8,  9, 10]),)"
      ]
     },
     "execution_count": 62,
     "metadata": {},
     "output_type": "execute_result"
    }
   ],
   "source": [
    "np.where(array1 > 4) # 0, 1 인덱스만 제외하고 인덱스 반환함"
   ]
  },
  {
   "cell_type": "code",
   "execution_count": 63,
   "id": "e6e3e78e-3d9c-4eec-9d8a-bb648cb80a7a",
   "metadata": {},
   "outputs": [],
   "source": [
    "Filter = np.where(array1 > 4)"
   ]
  },
  {
   "cell_type": "code",
   "execution_count": 64,
   "id": "66719c61-e490-43b3-9da2-162480c264e9",
   "metadata": {},
   "outputs": [
    {
     "data": {
      "text/plain": [
       "(array([ 2,  3,  4,  5,  6,  7,  8,  9, 10]),)"
      ]
     },
     "execution_count": 64,
     "metadata": {},
     "output_type": "execute_result"
    }
   ],
   "source": [
    "Filter"
   ]
  },
  {
   "cell_type": "code",
   "execution_count": 67,
   "id": "c7233cd2-a687-4969-9206-383eac657738",
   "metadata": {},
   "outputs": [
    {
     "data": {
      "text/plain": [
       "array([ 5,  7, 11, 13, 17, 19, 23, 29, 31])"
      ]
     },
     "execution_count": 67,
     "metadata": {},
     "output_type": "execute_result"
    }
   ],
   "source": [
    "array1[Filter] # 이렇게 하면 0,1 인덱스 제외한 값이 튀어나옴.."
   ]
  },
  {
   "cell_type": "markdown",
   "id": "1529716b-04f0-4c88-a065-891faecfd7ff",
   "metadata": {},
   "source": [
    "### numpy vs list\n",
    "Numpy가 훨씬 빠름.  \n",
    "(이유는 list 는 수치 이외의 것도 다 들어감..)"
   ]
  },
  {
   "cell_type": "markdown",
   "id": "22557595-69fb-4467-8cee-a4594e102be9",
   "metadata": {},
   "source": [
    "### 최댓값, 최솟값, 평균값, 중앙값, 표준편차, 분산.."
   ]
  },
  {
   "cell_type": "code",
   "execution_count": 74,
   "id": "1f9eeb40-a2d3-41cd-9558-8f5002f37b64",
   "metadata": {},
   "outputs": [
    {
     "name": "stdout",
     "output_type": "stream",
     "text": [
      "array1의 최댓값:  31\n",
      "array1의 최솟값:  5\n",
      "array1의 평균값:  15.25\n",
      "array1의 중간값:  13.5\n",
      "array1의 표준편차:  8.496322733983215\n",
      "array1의 분산:  72.1875\n"
     ]
    }
   ],
   "source": [
    "array1 = np.array([14, 6, 13, 21, 23, 31, 9, 5])\n",
    "\n",
    "#최댓값 구하기\n",
    "print(\"array1의 최댓값: \", array1.max())\n",
    "\n",
    "#최솟값\n",
    "print(\"array1의 최솟값: \", array1.min())\n",
    "\n",
    "#평균값\n",
    "print(\"array1의 평균값: \", array1.mean())\n",
    "\n",
    "#중간값\n",
    "print(\"array1의 중간값: \", np.median(array1))\n",
    "\n",
    "#표준편차\n",
    "print(\"array1의 표준편차: \", array1.std())\n",
    "\n",
    "#분산\n",
    "print(\"array1의 분산: \", array1.var())"
   ]
  },
  {
   "cell_type": "code",
   "execution_count": null,
   "id": "26dd1817-286d-4220-96c4-a2bdaec60ae9",
   "metadata": {},
   "outputs": [],
   "source": []
  }
 ],
 "metadata": {
  "kernelspec": {
   "display_name": "Python 3 (ipykernel)",
   "language": "python",
   "name": "python3"
  },
  "language_info": {
   "codemirror_mode": {
    "name": "ipython",
    "version": 3
   },
   "file_extension": ".py",
   "mimetype": "text/x-python",
   "name": "python",
   "nbconvert_exporter": "python",
   "pygments_lexer": "ipython3",
   "version": "3.9.7"
  }
 },
 "nbformat": 4,
 "nbformat_minor": 5
}
