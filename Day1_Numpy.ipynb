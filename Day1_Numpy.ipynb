{
 "cells": [
  {
   "cell_type": "code",
   "execution_count": 1,
   "id": "11bf1dca-cb7d-4ffd-b6bb-aa1952bf50a1",
   "metadata": {},
   "outputs": [],
   "source": [
    "import numpy"
   ]
  },
  {
   "cell_type": "code",
   "execution_count": 3,
   "id": "8ae26b57-201b-4e62-b9ef-9b7243b060e8",
   "metadata": {},
   "outputs": [],
   "source": [
    "array1 = numpy.array([2,3,5,7,11,13,17,19,23,29,31])"
   ]
  },
  {
   "cell_type": "code",
   "execution_count": 4,
   "id": "c530eb85-80a4-4e0c-ac00-11d5f1979d70",
   "metadata": {},
   "outputs": [
    {
     "data": {
      "text/plain": [
       "array([ 2,  3,  5,  7, 11, 13, 17, 19, 23, 29, 31])"
      ]
     },
     "execution_count": 4,
     "metadata": {},
     "output_type": "execute_result"
    }
   ],
   "source": [
    "array1"
   ]
  },
  {
   "cell_type": "code",
   "execution_count": 14,
   "id": "80516e1a-6d75-4a61-aabe-b0d3c16bff98",
   "metadata": {},
   "outputs": [
    {
     "data": {
      "text/plain": [
       "numpy.ndarray"
      ]
     },
     "execution_count": 14,
     "metadata": {},
     "output_type": "execute_result"
    }
   ],
   "source": [
    "type(array1)\n",
    "\n",
    "# ndarray는 n-demention array 라는 뜻임"
   ]
  },
  {
   "cell_type": "code",
   "execution_count": 9,
   "id": "071e9558-90e1-43b0-9b51-37df78be2018",
   "metadata": {},
   "outputs": [
    {
     "data": {
      "text/plain": [
       "(11,)"
      ]
     },
     "execution_count": 9,
     "metadata": {},
     "output_type": "execute_result"
    }
   ],
   "source": [
    "array1.shape"
   ]
  },
  {
   "cell_type": "code",
   "execution_count": 15,
   "id": "65a57312-0a53-4fe0-97f8-84008e36074d",
   "metadata": {},
   "outputs": [],
   "source": [
    "# 이런걸 2차원 Array라고 부름\n",
    "array2 = numpy.array([[1,2,3,4], [5,6,7,8], [9,10,11,12]])"
   ]
  },
  {
   "cell_type": "code",
   "execution_count": 16,
   "id": "0dffec77-7135-4214-a43c-8c2de63f1d1d",
   "metadata": {},
   "outputs": [
    {
     "data": {
      "text/plain": [
       "array([[ 1,  2,  3,  4],\n",
       "       [ 5,  6,  7,  8],\n",
       "       [ 9, 10, 11, 12]])"
      ]
     },
     "execution_count": 16,
     "metadata": {},
     "output_type": "execute_result"
    }
   ],
   "source": [
    "array2"
   ]
  },
  {
   "cell_type": "code",
   "execution_count": 21,
   "id": "9a1dd34b-9a60-4cf5-b5ee-6fe968a7303a",
   "metadata": {},
   "outputs": [
    {
     "data": {
      "text/plain": [
       "(3, 4)"
      ]
     },
     "execution_count": 21,
     "metadata": {},
     "output_type": "execute_result"
    }
   ],
   "source": [
    "array2.shape\n",
    "# (3, 4) 임 (세로 / 가로)"
   ]
  },
  {
   "cell_type": "code",
   "execution_count": 23,
   "id": "508a2f81-8c14-4ac0-8642-7771de33aaab",
   "metadata": {},
   "outputs": [
    {
     "data": {
      "text/plain": [
       "11"
      ]
     },
     "execution_count": 23,
     "metadata": {},
     "output_type": "execute_result"
    }
   ],
   "source": [
    "# numpy array 에 총 몇개의 element 가 있나!\n",
    "array1.size"
   ]
  },
  {
   "cell_type": "code",
   "execution_count": 25,
   "id": "fdd9a091-4364-4065-b8c8-fb1f7e9e2601",
   "metadata": {},
   "outputs": [
    {
     "data": {
      "text/plain": [
       "12"
      ]
     },
     "execution_count": 25,
     "metadata": {},
     "output_type": "execute_result"
    }
   ],
   "source": [
    "array2.size # 4개씩 3개 12맞음"
   ]
  },
  {
   "cell_type": "code",
   "execution_count": 27,
   "id": "25543592-d9b7-49fb-8fbc-2bcbfc732773",
   "metadata": {},
   "outputs": [],
   "source": [
    "# 균일한 값으로 생성하기\n",
    "array3 = numpy.full(6,7) # 7로 6개를 채움.."
   ]
  },
  {
   "cell_type": "code",
   "execution_count": 28,
   "id": "4e896757-33a0-4f1a-9247-aa708a91e0b3",
   "metadata": {},
   "outputs": [
    {
     "data": {
      "text/plain": [
       "array([7, 7, 7, 7, 7, 7])"
      ]
     },
     "execution_count": 28,
     "metadata": {},
     "output_type": "execute_result"
    }
   ],
   "source": [
    "array3"
   ]
  },
  {
   "cell_type": "code",
   "execution_count": 44,
   "id": "a3d76fb3-3fcb-4fe8-9b78-42d182a1eb47",
   "metadata": {},
   "outputs": [],
   "source": [
    "# 모든 값이 0인 numpy array 생성하기\n",
    "# numpy.zeros 가 훨씬 빠르다고 함..\n",
    "# ref: https://stackoverflow.com/questions/26213199/np-fullsize-0-vs-np-zerossize-vs-np-empty\n",
    "filled_by_six = numpy.zeros(6, dtype=int)"
   ]
  },
  {
   "cell_type": "code",
   "execution_count": 45,
   "id": "9d5bd253-b9ac-4cf3-bec7-939b96d6d716",
   "metadata": {},
   "outputs": [
    {
     "data": {
      "text/plain": [
       "array([0, 0, 0, 0, 0, 0])"
      ]
     },
     "execution_count": 45,
     "metadata": {},
     "output_type": "execute_result"
    }
   ],
   "source": [
    "filled_by_six"
   ]
  },
  {
   "cell_type": "code",
   "execution_count": 46,
   "id": "e09106a5-aeff-4193-a42b-4530665c5bfe",
   "metadata": {},
   "outputs": [],
   "source": [
    "# 모든 값이 1인 numpy array 생성하기"
   ]
  },
  {
   "cell_type": "code",
   "execution_count": 47,
   "id": "eb9b153e-4bde-4336-9b61-387995ead2da",
   "metadata": {},
   "outputs": [],
   "source": [
    "filled_by_one = numpy.ones(6, dtype=int)"
   ]
  },
  {
   "cell_type": "code",
   "execution_count": 48,
   "id": "b3332789-06af-4051-a842-2af83cfc71ed",
   "metadata": {},
   "outputs": [
    {
     "data": {
      "text/plain": [
       "array([1, 1, 1, 1, 1, 1])"
      ]
     },
     "execution_count": 48,
     "metadata": {},
     "output_type": "execute_result"
    }
   ],
   "source": [
    "filled_by_one"
   ]
  },
  {
   "cell_type": "code",
   "execution_count": 53,
   "id": "8bb1fbc6-fce5-4cd9-867c-1d47001593ed",
   "metadata": {},
   "outputs": [],
   "source": [
    "# 랜덤 값 생성하기\n",
    "filled_by_random = numpy.random.random(6)"
   ]
  },
  {
   "cell_type": "code",
   "execution_count": 54,
   "id": "36ae0706-4a57-449d-b536-41fc2f2077c1",
   "metadata": {},
   "outputs": [
    {
     "data": {
      "text/plain": [
       "array([0.14583998, 0.29939876, 0.11704173, 0.58455518, 0.05931898,\n",
       "       0.68791718])"
      ]
     },
     "execution_count": 54,
     "metadata": {},
     "output_type": "execute_result"
    }
   ],
   "source": [
    "filled_by_random"
   ]
  },
  {
   "cell_type": "code",
   "execution_count": 55,
   "id": "2bffa34e-949e-4e51-8e55-0a7f13bd5685",
   "metadata": {},
   "outputs": [],
   "source": [
    "# 연속된 값이 담긴 numpy array 만들기\n",
    "continuously_value_parameter_one = numpy.arange(6)"
   ]
  },
  {
   "cell_type": "code",
   "execution_count": 57,
   "id": "a1418108-ae28-4efd-aea2-10572cf9f125",
   "metadata": {},
   "outputs": [
    {
     "data": {
      "text/plain": [
       "array([0, 1, 2, 3, 4, 5])"
      ]
     },
     "execution_count": 57,
     "metadata": {},
     "output_type": "execute_result"
    }
   ],
   "source": [
    "# 이러면 차례대로 0부터 만들어진다!!\n",
    "continuously_value_parameter_one"
   ]
  },
  {
   "cell_type": "code",
   "execution_count": 60,
   "id": "8646a663-ba05-4058-8670-936f9b4c13a9",
   "metadata": {},
   "outputs": [],
   "source": [
    "# 파라미터를 2개를 넣으면... n 부터 m-1까지의 값들이 담긴 numpy array가 리턴됨\n",
    "continously_value_parameter_two = numpy.arange(2, 7)"
   ]
  },
  {
   "cell_type": "code",
   "execution_count": 61,
   "id": "fcda04b1-efad-431d-a8de-b04575043fb6",
   "metadata": {},
   "outputs": [
    {
     "data": {
      "text/plain": [
       "array([2, 3, 4, 5, 6])"
      ]
     },
     "execution_count": 61,
     "metadata": {},
     "output_type": "execute_result"
    }
   ],
   "source": [
    "continously_value_parameter_two"
   ]
  },
  {
   "cell_type": "code",
   "execution_count": 64,
   "id": "2755efad-2246-45d4-911b-398c2bd401f3",
   "metadata": {},
   "outputs": [],
   "source": [
    "# 파라미터 3개를 넣으면, 이전 2개에 간격이 추가됨\n",
    "continously_value_parameter_three = numpy.arange(2,20,2)"
   ]
  },
  {
   "cell_type": "code",
   "execution_count": 65,
   "id": "98d33b33-9b18-433c-b16a-064990d51f18",
   "metadata": {},
   "outputs": [
    {
     "data": {
      "text/plain": [
       "array([ 2,  4,  6,  8, 10, 12, 14, 16, 18])"
      ]
     },
     "execution_count": 65,
     "metadata": {},
     "output_type": "execute_result"
    }
   ],
   "source": [
    "continously_value_parameter_three"
   ]
  },
  {
   "cell_type": "code",
   "execution_count": null,
   "id": "f1600dc3-bccc-4624-8620-d7d9160fa546",
   "metadata": {},
   "outputs": [],
   "source": []
  }
 ],
 "metadata": {
  "kernelspec": {
   "display_name": "Python 3 (ipykernel)",
   "language": "python",
   "name": "python3"
  },
  "language_info": {
   "codemirror_mode": {
    "name": "ipython",
    "version": 3
   },
   "file_extension": ".py",
   "mimetype": "text/x-python",
   "name": "python",
   "nbconvert_exporter": "python",
   "pygments_lexer": "ipython3",
   "version": "3.9.7"
  }
 },
 "nbformat": 4,
 "nbformat_minor": 5
}
